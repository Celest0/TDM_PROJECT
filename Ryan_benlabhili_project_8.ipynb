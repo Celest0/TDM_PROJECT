{
 "cells": [
  {
   "cell_type": "markdown",
   "id": "be02a957-7133-4d02-818e-fedeb3cecb05",
   "metadata": {},
   "source": [
    "# Project 8 -- [Ryan] [Benlabhili]"
   ]
  },
  {
   "cell_type": "markdown",
   "id": "a1228853-dd19-4ab2-89e0-0394d7d72de3",
   "metadata": {},
   "source": [
    "**TA Help:** None\n",
    "\n",
    "**Collaboration:** None\n",
    "\n",
    "\n",
    "\n",
    "**Internet Resources:** None\n",
    "**ChatGPT, Gemini, Claude, etc:**  https://chatgpt.com/share/68f95955-0404-8003-8981-b0b7d5822eff\n",
    "\n",
    "(if you used any such tools, please tell us here)\n",
    "- For example:  I asked ChatGPT how to define a new data frames\n",
    "- Another example:  Gemini told me how to make a function for sorting my data\n",
    "\n",
    "- ***Link to AI Chat History***: Please share a link to your chat if you used AI (ex. ChatGPT Shared Links)\n",
    "**OVERALL MESSAGE:** Any time that you used anything except your brain to solve the questions in these projects, you need to disclose such resources at the start of the project, with details about your usage of the tools.\n",
    "\n",
    "**YOUR OWN WORK:** Even when you utilize other resources, do NOT just copy and paste.  Write all explanations in your own words, using several sentences in English, which are understandable and which you wrote (and did not just copy and paste)."
   ]
  },
  {
   "cell_type": "markdown",
   "id": "6180e742-8e39-4698-98ff-5b00c8cf8ea0",
   "metadata": {},
   "source": [
    "## Question 1"
   ]
  },
  {
   "cell_type": "code",
   "execution_count": 1,
   "id": "49445606-d363-41b4-b479-e319a9a84c01",
   "metadata": {
    "scrolled": true
   },
   "outputs": [
    {
     "name": "stderr",
     "output_type": "stream",
     "text": [
      "\n",
      "Attaching package: 'lubridate'\n",
      "\n",
      "\n",
      "The following objects are masked from 'package:data.table':\n",
      "\n",
      "    hour, isoweek, mday, minute, month, quarter, second, wday, week,\n",
      "    yday, year\n",
      "\n",
      "\n",
      "The following objects are masked from 'package:base':\n",
      "\n",
      "    date, intersect, setdiff, union\n",
      "\n",
      "\n"
     ]
    },
    {
     "data": {
      "text/plain": [
       "\n",
       "    1     2     3     4     5     6     7 \n",
       "18651 19676 22003 20619 22210 15906 16238 "
      ]
     },
     "metadata": {},
     "output_type": "display_data"
    },
    {
     "data": {
      "text/plain": [
       "\n",
       "  Sun   Mon   Tue   Wed   Thu   Fri   Sat \n",
       "18651 19676 22003 20619 22210 15906 16238 "
      ]
     },
     "metadata": {},
     "output_type": "display_data"
    },
    {
     "data": {
      "text/plain": [
       "   \n",
       "      Sun   Mon   Tue   Wed   Thu   Fri   Sat\n",
       "  1 18651     0     0     0     0     0     0\n",
       "  2     0 19676     0     0     0     0     0\n",
       "  3     0     0 22003     0     0     0     0\n",
       "  4     0     0     0 20619     0     0     0\n",
       "  5     0     0     0     0 22210     0     0\n",
       "  6     0     0     0     0     0 15906     0\n",
       "  7     0     0     0     0     0     0 16238"
      ]
     },
     "metadata": {},
     "output_type": "display_data"
    }
   ],
   "source": [
    "library(data.table)\n",
    "library(lubridate)\n",
    "\n",
    "orders <- fread(\"/anvil/projects/tdm/data/restaurant/orders.csv\")\n",
    "\n",
    "# Convert created_at to Date\n",
    "orders$created_at <- as.Date(orders$created_at)\n",
    "\n",
    "# Numeric and labeled weekdays\n",
    "orders$num_day_of_the_week <- wday(orders$created_at)\n",
    "orders$day_of_the_week <- wday(orders$created_at, label = TRUE)\n",
    "\n",
    "# Tables\n",
    "table(orders$num_day_of_the_week)\n",
    "table(orders$day_of_the_week)\n",
    "table(orders$num_day_of_the_week, orders$day_of_the_week)\n"
   ]
  },
  {
   "cell_type": "code",
   "execution_count": null,
   "id": "a0135869-627a-4c90-aa44-715c64fd5238",
   "metadata": {},
   "outputs": [],
   "source": [
    "1.1 Lubridate package:\n",
    "\n",
    "Lubridate simplifies handling dates and times in R. It enables you to retrieve components of a date, convert strings to date objects, and carry out calculations without complex base R functions.\n",
    "\n",
    "1.2 Rotation of days throughout the week:\n",
    "\n",
    "Utilizing `wday()`, we observe that 1 represents Sunday, 2 indicates Monday, and it continues sequentially to 7 for Saturday, affirming the typical Sunday-to-Saturday cycle.\n",
    "\n",
    "1.3 Storage of date and time:\n",
    "\n",
    "Date objects only keep the calendar date (year, month, day). Objects like POSIXct that represent date-time store both the date and time as numeric values indicating seconds since a specific reference date."
   ]
  },
  {
   "cell_type": "markdown",
   "id": "b456e57c-4a12-464b-999a-ef2df5af80c1",
   "metadata": {},
   "source": [
    "Markdown notes and full English sentences and analysis written here."
   ]
  },
  {
   "cell_type": "markdown",
   "id": "fc601975-35ed-4680-a4e1-0273ee3cc047",
   "metadata": {},
   "source": [
    "## Question 2"
   ]
  },
  {
   "cell_type": "code",
   "execution_count": 6,
   "id": "a16336a1-1ef0-41e8-bc7c-49387db27497",
   "metadata": {
    "scrolled": true
   },
   "outputs": [
    {
     "name": "stdout",
     "output_type": "stream",
     "text": [
      "\n",
      "  Jan   Feb   Mar   Apr   May   Jun   Jul   Aug   Sep   Oct   Nov   Dec \n",
      "17825 23683     0     0     1 10120 10175  8933  6609 19893 18249 19815 \n",
      "\n",
      " 2019  2020 \n",
      "93795 41508 \n",
      "  Jan   Feb   Mar   Apr   May   Jun   Jul   Aug   Sep   Oct   Nov   Dec \n",
      "40410 51197    NA    NA     0 27839 27296 23853 16098 31527 43102 47479 \n"
     ]
    },
    {
     "name": "stderr",
     "output_type": "stream",
     "text": [
      "Warning message in cbind(parts$left, chars$ellip_h, parts$right, deparse.level = 0L):\n",
      "\"number of rows of result is not a multiple of vector length (arg 2)\"\n",
      "Warning message in cbind(parts$left, chars$ellip_h, parts$right, deparse.level = 0L):\n",
      "\"number of rows of result is not a multiple of vector length (arg 2)\"\n",
      "Warning message in cbind(parts$left, chars$ellip_h, parts$right, deparse.level = 0L):\n",
      "\"number of rows of result is not a multiple of vector length (arg 2)\"\n",
      "Warning message in cbind(parts$left, chars$ellip_h, parts$right, deparse.level = 0L):\n",
      "\"number of rows of result is not a multiple of vector length (arg 2)\"\n"
     ]
    },
    {
     "data": {
      "text/html": [
       "<table class=\"dataframe\">\n",
       "<caption>A data.table: 0 x 28</caption>\n",
       "<thead>\n",
       "\t<tr><th scope=col>akeed_order_id</th><th scope=col>customer_id</th><th scope=col>item_count</th><th scope=col>grand_total</th><th scope=col>payment_mode</th><th scope=col>promo_code</th><th scope=col>vendor_discount_amount</th><th scope=col>promo_code_discount_percentage</th><th scope=col>is_favorite</th><th scope=col>is_rated</th><th scope=col>...</th><th scope=col>picked_up_time</th><th scope=col>delivered_time</th><th scope=col>delivery_date</th><th scope=col>vendor_id</th><th scope=col>created_at</th><th scope=col>LOCATION_NUMBER</th><th scope=col>LOCATION_TYPE</th><th scope=col>CID X LOC_NUM X VENDOR</th><th scope=col>month</th><th scope=col>year</th></tr>\n",
       "\t<tr><th scope=col>&lt;dbl&gt;</th><th scope=col>&lt;chr&gt;</th><th scope=col>&lt;dbl&gt;</th><th scope=col>&lt;dbl&gt;</th><th scope=col>&lt;int&gt;</th><th scope=col>&lt;chr&gt;</th><th scope=col>&lt;dbl&gt;</th><th scope=col>&lt;dbl&gt;</th><th scope=col>&lt;chr&gt;</th><th scope=col>&lt;chr&gt;</th><th scope=col>...</th><th scope=col>&lt;dttm&gt;</th><th scope=col>&lt;dttm&gt;</th><th scope=col>&lt;dttm&gt;</th><th scope=col>&lt;int&gt;</th><th scope=col>&lt;date&gt;</th><th scope=col>&lt;int&gt;</th><th scope=col>&lt;chr&gt;</th><th scope=col>&lt;chr&gt;</th><th scope=col>&lt;ord&gt;</th><th scope=col>&lt;dbl&gt;</th></tr>\n",
       "</thead>\n",
       "<tbody>\n",
       "</tbody>\n",
       "</table>\n"
      ],
      "text/latex": [
       "A data.table: 0 x 28\n",
       "\\begin{tabular}{lllllllllllllllllllll}\n",
       " akeed\\_order\\_id & customer\\_id & item\\_count & grand\\_total & payment\\_mode & promo\\_code & vendor\\_discount\\_amount & promo\\_code\\_discount\\_percentage & is\\_favorite & is\\_rated & ... & picked\\_up\\_time & delivered\\_time & delivery\\_date & vendor\\_id & created\\_at & LOCATION\\_NUMBER & LOCATION\\_TYPE & CID X LOC\\_NUM X VENDOR & month & year\\\\\n",
       " <dbl> & <chr> & <dbl> & <dbl> & <int> & <chr> & <dbl> & <dbl> & <chr> & <chr> & ... & <dttm> & <dttm> & <dttm> & <int> & <date> & <int> & <chr> & <chr> & <ord> & <dbl>\\\\\n",
       "\\hline\n",
       "\\end{tabular}\n"
      ],
      "text/markdown": [
       "\n",
       "A data.table: 0 x 28\n",
       "\n",
       "| akeed_order_id &lt;dbl&gt; | customer_id &lt;chr&gt; | item_count &lt;dbl&gt; | grand_total &lt;dbl&gt; | payment_mode &lt;int&gt; | promo_code &lt;chr&gt; | vendor_discount_amount &lt;dbl&gt; | promo_code_discount_percentage &lt;dbl&gt; | is_favorite &lt;chr&gt; | is_rated &lt;chr&gt; | ... ... | picked_up_time &lt;dttm&gt; | delivered_time &lt;dttm&gt; | delivery_date &lt;dttm&gt; | vendor_id &lt;int&gt; | created_at &lt;date&gt; | LOCATION_NUMBER &lt;int&gt; | LOCATION_TYPE &lt;chr&gt; | CID X LOC_NUM X VENDOR &lt;chr&gt; | month &lt;ord&gt; | year &lt;dbl&gt; |\n",
       "|---|---|---|---|---|---|---|---|---|---|---|---|---|---|---|---|---|---|---|---|---|\n",
       "\n"
      ],
      "text/plain": [
       "     akeed_order_id customer_id item_count grand_total payment_mode promo_code\n",
       "     vendor_discount_amount promo_code_discount_percentage is_favorite is_rated\n",
       "     ... picked_up_time delivered_time delivery_date vendor_id created_at\n",
       "     LOCATION_NUMBER LOCATION_TYPE CID X LOC_NUM X VENDOR month year"
      ]
     },
     "metadata": {},
     "output_type": "display_data"
    },
    {
     "name": "stdout",
     "output_type": "stream",
     "text": [
      "       Jan   Feb Mar Apr May   Jun   Jul   Aug   Sep   Oct   Nov   Dec\n",
      "2019    NA    NA  NA  NA   0 27839 27296 23853 16098 31527 43102 47479\n",
      "2020 40410 51197  NA  NA  NA    NA    NA    NA    NA    NA    NA    NA\n"
     ]
    },
    {
     "data": {
      "image/png": "[encoded data removed]",
      "text/plain": [
       "Plot with title \"Total Items Ordered per Month\""
      ]
     },
     "metadata": {
      "image/png": {
       "height": 420,
       "width": 420
      }
     },
     "output_type": "display_data"
    },
    {
     "data": {
      "image/png": "[encoded data removed]",
      "text/plain": [
       "Plot with title \"Total Items Ordered by Year and Month\""
      ]
     },
     "metadata": {
      "image/png": {
       "height": 420,
       "width": 420
      }
     },
     "output_type": "display_data"
    }
   ],
   "source": [
    "# code here\n",
    "\n",
    "library(data.table)\n",
    "library(lubridate)\n",
    "\n",
    "# Read the dataset\n",
    "orders <- fread(\"/anvil/projects/tdm/data/restaurant/orders.csv\")\n",
    "\n",
    "# Convert created_at to Date\n",
    "orders$created_at <- as.Date(orders$created_at)\n",
    "\n",
    "# Add month and year columns\n",
    "orders$month <- month(orders$created_at, label = TRUE)  # labeled month names\n",
    "orders$year <- year(orders$created_at)\n",
    "\n",
    "# View distribution of orders by month and year\n",
    "month_table <- table(orders$month)\n",
    "year_table <- table(orders$year)\n",
    "\n",
    "print(month_table)\n",
    "print(year_table)\n",
    "\n",
    "# Total item_count per month using tapply\n",
    "items_per_month <- tapply(orders$item_count, orders$month, sum, na.rm = TRUE)\n",
    "print(items_per_month)\n",
    "\n",
    "# Barplot of total items per month\n",
    "barplot(items_per_month,\n",
    "        col = \"steelblue\",\n",
    "        main = \"Total Items Ordered per Month\",\n",
    "        ylab = \"Total Items\",\n",
    "        xlab = \"Month\")\n",
    "\n",
    "# Inspect why some months show NA\n",
    "orders[orders$month %in% c(\"Mar\", \"Apr\"), ]\n",
    "\n",
    "# Total item_count per (year, month) pairing\n",
    "items_per_year_month <- tapply(orders$item_count,\n",
    "                               list(orders$year, orders$month),\n",
    "                               sum, na.rm = TRUE)\n",
    "print(items_per_year_month)\n",
    "\n",
    "# Barplot of items per year and month\n",
    "barplot(items_per_year_month,\n",
    "        beside = TRUE,\n",
    "        col = rainbow(ncol(items_per_year_month)),\n",
    "        legend = TRUE,\n",
    "        main = \"Total Items Ordered by Year and Month\",\n",
    "        ylab = \"Total Items\",\n",
    "        xlab = \"Year\")\n"
   ]
  },
  {
   "cell_type": "code",
   "execution_count": 7,
   "id": "91d144f0-e3af-4d01-8ace-7fbf68d5ae4c",
   "metadata": {},
   "outputs": [
    {
     "ename": "ERROR",
     "evalue": "Error in parse(text = input): <text>:1:5: unexpected symbol\n1: 2.1 Real\n        ^\n",
     "output_type": "error",
     "traceback": [
      "Error in parse(text = input): <text>:1:5: unexpected symbol\n1: 2.1 Real\n        ^\nTraceback:\n"
     ]
    }
   ],
   "source": [
    "2.1 Real duration of orders:\n",
    "\n",
    "The orders containing items in this dataset range from the first order date (min(orders$created_at, na.rm=TRUE)) to the most recent order date (max(orders$created_at, na.rm=TRUE)), illustrating the entire timeframe when customers made purchases with items.\n",
    "\n",
    "2.2 Reasons for March and April showing NA, while May does not:\n",
    "\n",
    "March and April display NA in the overall item counts since there were no recorded orders with items during those months, making the total undefined. May does not indicate NA because there were orders with items, permitting the total to be calculated\n"
   ]
  },
  {
   "cell_type": "markdown",
   "id": "14dc22d4-ddc3-41cc-a91a-cb0025bc0c80",
   "metadata": {},
   "source": [
    "Markdown notes and full English sentences and analysis written here."
   ]
  },
  {
   "cell_type": "markdown",
   "id": "8e586edd-ff26-4ce2-8f6b-2424b26f2929",
   "metadata": {},
   "source": [
    "## Question 3"
   ]
  },
  {
   "cell_type": "code",
   "execution_count": 8,
   "id": "bbe0f40d-9655-4653-9ca8-886bdb61cb91",
   "metadata": {
    "scrolled": true
   },
   "outputs": [
    {
     "data": {
      "text/html": [
       "<table class=\"dataframe\">\n",
       "<caption>A data.table: 6 x 4</caption>\n",
       "<thead>\n",
       "\t<tr><th scope=col>DepTime</th><th scope=col>depHour</th><th scope=col>depMinute</th><th scope=col>date_times</th></tr>\n",
       "\t<tr><th scope=col>&lt;dbl&gt;</th><th scope=col>&lt;dbl&gt;</th><th scope=col>&lt;dbl&gt;</th><th scope=col>&lt;dttm&gt;</th></tr>\n",
       "</thead>\n",
       "<tbody>\n",
       "\t<tr><td>1615</td><td>16</td><td>15</td><td>1997-01-28 16:15:00</td></tr>\n",
       "\t<tr><td>1624</td><td>16</td><td>24</td><td>1997-01-29 16:24:00</td></tr>\n",
       "\t<tr><td>1626</td><td>16</td><td>26</td><td>1997-01-30 16:26:00</td></tr>\n",
       "\t<tr><td>1628</td><td>16</td><td>28</td><td>1997-01-31 16:28:00</td></tr>\n",
       "\t<tr><td>1503</td><td>15</td><td> 3</td><td>1997-01-14 15:03:00</td></tr>\n",
       "\t<tr><td>1029</td><td>10</td><td>29</td><td>1997-01-01 10:29:00</td></tr>\n",
       "</tbody>\n",
       "</table>\n"
      ],
      "text/latex": [
       "A data.table: 6 x 4\n",
       "\\begin{tabular}{llll}\n",
       " DepTime & depHour & depMinute & date\\_times\\\\\n",
       " <dbl> & <dbl> & <dbl> & <dttm>\\\\\n",
       "\\hline\n",
       "\t 1615 & 16 & 15 & 1997-01-28 16:15:00\\\\\n",
       "\t 1624 & 16 & 24 & 1997-01-29 16:24:00\\\\\n",
       "\t 1626 & 16 & 26 & 1997-01-30 16:26:00\\\\\n",
       "\t 1628 & 16 & 28 & 1997-01-31 16:28:00\\\\\n",
       "\t 1503 & 15 &  3 & 1997-01-14 15:03:00\\\\\n",
       "\t 1029 & 10 & 29 & 1997-01-01 10:29:00\\\\\n",
       "\\end{tabular}\n"
      ],
      "text/markdown": [
       "\n",
       "A data.table: 6 x 4\n",
       "\n",
       "| DepTime &lt;dbl&gt; | depHour &lt;dbl&gt; | depMinute &lt;dbl&gt; | date_times &lt;dttm&gt; |\n",
       "|---|---|---|---|\n",
       "| 1615 | 16 | 15 | 1997-01-28 16:15:00 |\n",
       "| 1624 | 16 | 24 | 1997-01-29 16:24:00 |\n",
       "| 1626 | 16 | 26 | 1997-01-30 16:26:00 |\n",
       "| 1628 | 16 | 28 | 1997-01-31 16:28:00 |\n",
       "| 1503 | 15 |  3 | 1997-01-14 15:03:00 |\n",
       "| 1029 | 10 | 29 | 1997-01-01 10:29:00 |\n",
       "\n"
      ],
      "text/plain": [
       "  DepTime depHour depMinute date_times         \n",
       "1 1615    16      15        1997-01-28 16:15:00\n",
       "2 1624    16      24        1997-01-29 16:24:00\n",
       "3 1626    16      26        1997-01-30 16:26:00\n",
       "4 1628    16      28        1997-01-31 16:28:00\n",
       "5 1503    15       3        1997-01-14 15:03:00\n",
       "6 1029    10      29        1997-01-01 10:29:00"
      ]
     },
     "metadata": {},
     "output_type": "display_data"
    }
   ],
   "source": [
    "library(data.table)\n",
    "library(lubridate)\n",
    "\n",
    "# Read the 1997 Flights dataset\n",
    "flights <- fread(\"/anvil/projects/tdm/data/flights/subset/1997.csv\")\n",
    "\n",
    "# Create a full date column in YYYY-MM-DD format\n",
    "flights$full_dates <- ymd(paste(flights$Year, flights$Month, flights$DayofMonth, sep = \"-\"))\n",
    "\n",
    "# Replace 2400 in DepTime with 0 (midnight)\n",
    "flights$DepTime[flights$DepTime == 2400] <- 0\n",
    "\n",
    "# Extract departure hour and minute\n",
    "flights$depHour <- floor(flights$DepTime / 100)\n",
    "flights$depMinute <- flights$DepTime %% 100  # remainder after dividing by 100\n",
    "\n",
    "# Create datetime column using make_datetime\n",
    "flights$date_times <- make_datetime(year = flights$Year,\n",
    "                                    month = flights$Month,\n",
    "                                    day = flights$DayofMonth,\n",
    "                                    hour = flights$depHour,\n",
    "                                    min = flights$depMinute)\n",
    "\n",
    "# View first few rows to confirm\n",
    "head(flights[, .(DepTime, depHour, depMinute, date_times)])\n"
   ]
  },
  {
   "cell_type": "code",
   "execution_count": 9,
   "id": "dd6e850a-5fd7-44a0-9b20-cdd189aa850e",
   "metadata": {},
   "outputs": [
    {
     "ename": "ERROR",
     "evalue": "Error in parse(text = input): <text>:1:9: unexpected symbol\n1: 3.3-The `ymd()`\n            ^\n",
     "output_type": "error",
     "traceback": [
      "Error in parse(text = input): <text>:1:9: unexpected symbol\n1: 3.3-The `ymd()`\n            ^\nTraceback:\n"
     ]
    }
   ],
   "source": [
    "3.3-The `ymd()` function represents **Year-Month-Day**.It is utilized to transform character or numeric inputs that denote a date in\n",
    "“YYYY-MM-DD” format into a **Date object** in R. This enables R to identify and handle the data as real calendar dates, \n",
    "facilitating calculations, comparisons, and other date-time functions.\n"
   ]
  },
  {
   "cell_type": "markdown",
   "id": "47c6229f-35f7-400c-8366-c442baa5cf47",
   "metadata": {},
   "source": [
    "Markdown notes and full English sentences and analysis written here."
   ]
  },
  {
   "cell_type": "markdown",
   "id": "da22f29c-d245-4d2b-9fc1-ca14cb6087d9",
   "metadata": {},
   "source": [
    "## Question 4"
   ]
  },
  {
   "cell_type": "code",
   "execution_count": null,
   "id": "8cffc767-d1c8-4d64-b7dc-f0d2ee8a80d1",
   "metadata": {
    "scrolled": true
   },
   "outputs": [],
   "source": [
    "# code here\n",
    "library(data.table)\n",
    "library(lubridate)\n",
    "\n",
    "# Assuming flights dataset is already loaded and processed from Question 3\n",
    "\n",
    "# 1. Create dataframes for each origin\n",
    "bostonDF <- flights[Origin == \"BOS\"]\n",
    "phoenixDF <- flights[Origin == \"PHX\"]\n",
    "chicagoDF <- flights[Origin == \"MDW\"]\n",
    "seattleDF <- flights[Origin == \"SEA\"]\n",
    "\n",
    "# 2. Calculate average distance per month using tapply\n",
    "boston_distance <- tapply(bostonDF$Distance, bostonDF$Month, mean, na.rm = TRUE)\n",
    "phoenix_distance <- tapply(phoenixDF$Distance, phoenixDF$Month, mean, na.rm = TRUE)\n",
    "chicago_distance <- tapply(chicagoDF$Distance, chicagoDF$Month, mean, na.rm = TRUE)\n",
    "seattle_distance <- tapply(seattleDF$Distance, seattleDF$Month, mean, na.rm = TRUE)\n",
    "\n",
    "# 3. Plot individual line plots\n",
    "plot(boston_distance, type='b', col='blue', main='Average Distance per Month - BOS',\n",
    "     xlab='Month', ylab='Average Distance')\n",
    "plot(phoenix_distance, type='b', col='orange', main='Average Distance per Month - PHX',\n",
    "     xlab='Month', ylab='Average Distance')\n",
    "plot(chicago_distance, type='b', col='red', main='Average Distance per Month - MDW',\n",
    "     xlab='Month', ylab='Average Distance')\n",
    "plot(seattle_distance, type='b', col='green', main='Average Distance per Month - SEA',\n",
    "     xlab='Month', ylab='Average Distance')\n",
    "\n",
    "# 4. Combined plot with consistent y-axis limits\n",
    "plot(boston_distance, type='b', col='blue', ylim=c(300, 1200),\n",
    "     main='Average Distance From Boston, Phoenix, Chicago, and Seattle',\n",
    "     xlab='Months', ylab='Average Distance')\n",
    "lines(phoenix_distance, type='b', col='orange')\n",
    "lines(chicago_distance, type='b', col='red')\n",
    "lines(seattle_distance, type='b', col='green')\n",
    "legend(\"topright\", legend=c(\"BOS\",\"PHX\",\"MDW\",\"SEA\"),\n",
    "       col=c(\"blue\",\"orange\",\"red\",\"green\"), lty=1, pch=1)\n"
   ]
  },
  {
   "cell_type": "code",
   "execution_count": null,
   "id": "7f1b21fb-2459-47b9-8d72-9a6d694f2c07",
   "metadata": {},
   "outputs": [],
   "source": [
    "4.3-The average flight distance variations among the four airports can be understood through their locations and common flight paths. \n",
    "Boston (BOS), located on the East Coast, typically experiences longer average flight durations due to numerous destinations being situated across\n",
    "the country. Seattle (SEA), located on the West Coast, also experiences relatively lengthy flights for transcontinental routes. \n",
    "Phoenix (PHX) and Chicago Midway (MDW) are more central, resulting in shorter average distances due to their service to numerous nearby\n",
    "domestic locations. In general, coastal airports exhibit greater average distances because of lengthier cross-country flights, whereas central airports\n",
    "display shorter averages owing to their closeness to numerous destinations"
   ]
  },
  {
   "cell_type": "markdown",
   "id": "0d552245-b4d6-474a-9cc9-fa7b8e674d55",
   "metadata": {},
   "source": [
    "Markdown notes and full English sentences and analysis written here."
   ]
  },
  {
   "cell_type": "markdown",
   "id": "88c9cdac-3e92-498f-83fa-e089bfc44ac8",
   "metadata": {},
   "source": [
    "## Question 5"
   ]
  },
  {
   "cell_type": "code",
   "execution_count": null,
   "id": "d370d7c9-06db-42b9-b75f-240481a5c491",
   "metadata": {},
   "outputs": [],
   "source": [
    "# code here\n",
    "library(data.table)\n",
    "library(lubridate)\n",
    "\n",
    "# Assuming flights dataset is already loaded and origin-specific dataframes exist\n",
    "\n",
    "# 1. Total distance per month for each location using tapply\n",
    "boston_total <- tapply(bostonDF$Distance, bostonDF$Month, sum, na.rm = TRUE)\n",
    "phoenix_total <- tapply(phoenixDF$Distance, phoenixDF$Month, sum, na.rm = TRUE)\n",
    "chicago_total <- tapply(chicagoDF$Distance, chicagoDF$Month, sum, na.rm = TRUE)\n",
    "seattle_total <- tapply(seattleDF$Distance, seattleDF$Month, sum, na.rm = TRUE)\n",
    "\n",
    "# 2. Find max and min across all four locations\n",
    "all_totals <- c(boston_total, phoenix_total, chicago_total, seattle_total)\n",
    "total_max <- max(all_totals, na.rm = TRUE)\n",
    "total_min <- min(all_totals, na.rm = TRUE)\n",
    "\n",
    "print(paste(\"Maximum total distance:\", total_max))\n",
    "print(paste(\"Minimum total distance:\", total_min))\n",
    "\n",
    "# 3. Combined line plot with appropriate y-limits\n",
    "plot(boston_total, type='b', col='blue',\n",
    "     ylim=c(total_min, total_max),\n",
    "     main='Total Distance From Boston, Phoenix, Chicago, Seattle',\n",
    "     xlab='Months', ylab='Total Distance')\n",
    "lines(phoenix_total, type='b', col='orange')\n",
    "lines(chicago_total, type='b', col='red')\n",
    "lines(seattle_total, type='b', col='green')\n",
    "\n",
    "legend(\"topright\", legend=c(\"BOS\",\"PHX\",\"MDW\",\"SEA\"),\n",
    "       col=c(\"blue\",\"orange\",\"red\",\"green\"), lty=1, pch=1)\n"
   ]
  },
  {
   "cell_type": "markdown",
   "id": "9fbf00fb-2418-460f-ae94-2a32b0c28952",
   "metadata": {},
   "source": [
    "Markdown notes and full English sentences and analysis written here."
   ]
  },
  {
   "cell_type": "markdown",
   "id": "f76442d6-d02e-4f26-b9d6-c3183e1d6929",
   "metadata": {},
   "source": [
    "## Pledge\n",
    "\n",
    "By submitting this work I hereby pledge that this is my own, personal work. I've acknowledged in the designated place at the top of this file all sources that I used to complete said work, including but not limited to: online resources, books, and electronic communications. I've noted all collaboration with fellow students and/or TA's. I did not copy or plagiarize another's work.\n",
    "\n",
    "> As a Boilermaker pursuing academic excellence, I pledge to be honest and true in all that I do. Accountable together – We are Purdue.\n",
    "\n",
    "https://www.purdue.edu/odos/osrr/honor-pledge/\n"
   ]
  }
 ],
 "metadata": {
  "kernelspec": {
   "display_name": "seminar-r",
   "language": "R",
   "name": "seminar-r"
  },
  "language_info": {
   "codemirror_mode": "r",
   "file_extension": ".r",
   "mimetype": "text/x-r-source",
   "name": "R",
   "pygments_lexer": "r",
   "version": "4.4.3"
  }
 },
 "nbformat": 4,
 "nbformat_minor": 5
}
